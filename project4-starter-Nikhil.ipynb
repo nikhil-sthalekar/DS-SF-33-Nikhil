{
 "cells": [
  {
   "cell_type": "markdown",
   "metadata": {},
   "source": [
    "# Project 4\n",
    "\n",
    "In this project, you will summarize and present your analysis from Projects 1-3."
   ]
  },
  {
   "cell_type": "markdown",
   "metadata": {},
   "source": [
    "### Intro: Write a problem Statement/ Specific Aim for this project"
   ]
  },
  {
   "cell_type": "markdown",
   "metadata": {},
   "source": [
    "Answer: The aim of this project is to identify relevant features that are predictors of admission and then make a predictive model for admission based on these features."
   ]
  },
  {
   "cell_type": "markdown",
   "metadata": {},
   "source": [
    "### Dataset:  Write up a description of your data and any cleaning that was completed"
   ]
  },
  {
   "cell_type": "markdown",
   "metadata": {},
   "source": [
    "Answer: The dataset, taken from UCLA's Logistic Regression in R tutorial, consists of 400 rows of data corresponding to whether or not a student was admitted to the program, student's gpa and gre scores, as well as metric for the prestige of the undergraduate program they participated in.\n",
    "\n",
    "Of this 400 row data set, 3 students had incomplete data and they were removed for the purpose of analysis."
   ]
  },
  {
   "cell_type": "markdown",
   "metadata": {
    "collapsed": true
   },
   "source": [
    "### Demo: Provide a table that explains the data by admission status"
   ]
  },
  {
   "cell_type": "markdown",
   "metadata": {},
   "source": [
    "Mean (STD) or counts by admission status for each variable \n",
    "\n",
    "| Not Admitted | Admitted | Both\n",
    "---| ---|--- | ---\n",
    "GRE | mean(std): 573.579336(116.052798)  | mean(std): 618.571429(109.257233)| mean(std): 587.858942(115.717787)\n",
    "GPA |mean(std): 3.347159(0.376355) | mean(std): 3.489206(0.371655) | mean(std): 3.392242(0.380208)\n",
    "Prestige 1 | frequency (%): 10.3321 | frequency (%): 26.1905 | frequency (%): 15.3652\n",
    "Prestige 2 | frequency (%): 35.0554 | frequency (%): 42.0635 | frequency (%): 37.2796\n",
    "Prestige 3 | frequency (%): 34.3173 | frequency (%): 22.2222 | frequency (%): 30.4786\n",
    "Prestige 4 | frequency (%): 20.2952 | frequency (%): 9.5238 | frequency (%): 16.8766"
   ]
  },
  {
   "cell_type": "markdown",
   "metadata": {},
   "source": [
    "### Methods: Write up the methods used in your analysis"
   ]
  },
  {
   "cell_type": "markdown",
   "metadata": {},
   "source": [
    "Answer: The above table was completed by sorting the dataset based on whether or not someone was admitted and compiling summary statistics for each category.  This analysis yields a good overview of how the Not Admitted vs. Admitted populations and some insight into the importance of the different features.\n",
    "\n",
    "The above table points towards GRE and GPA scores being the key factors in admission with the prestige of the undergraduate program contributing, but in a less significant capacity.\n"
   ]
  },
  {
   "cell_type": "markdown",
   "metadata": {},
   "source": [
    "### Results: Write up your results"
   ]
  },
  {
   "cell_type": "markdown",
   "metadata": {},
   "source": [
    "Answer: In order to come up with a predictive model for admission, we used a logistic regression using Statsmodels. We calculated the probability of admission based on the GRE, GPA, and Prestige of undergraduate program."
   ]
  },
  {
   "cell_type": "markdown",
   "metadata": {},
   "source": [
    "### Visuals: Provide a table or visualization of these results"
   ]
  },
  {
   "cell_type": "markdown",
   "metadata": {},
   "source": [
    "<img src='placeholder.png' height= 100% width= 100%>"
   ]
  },
  {
   "cell_type": "markdown",
   "metadata": {},
   "source": [
    "The above surface plots visualize the relationship between probability of admission and gre, gpa, separated by prestige of undergraduate institution.  From the above plots, it is evident that prestige does play a part in the probability of admission though gre and gpa are still the most active predictors. "
   ]
  },
  {
   "cell_type": "markdown",
   "metadata": {},
   "source": [
    "### Discussion: Write up your discussion and future steps"
   ]
  },
  {
   "cell_type": "markdown",
   "metadata": {},
   "source": [
    "Answer: Though our model indicates that students from schools with higher prestige have a better chance of being accepted, this is predicated on having a higher GRE and GPA score.  Future inquiry into the way GPA and GRE scores differ based on the prestige of the institution would elucidate whether or not going to a lower prestige school but getting a higher GRE and GPA score would be better or equivalent to the opposite."
   ]
  },
  {
   "cell_type": "code",
   "execution_count": null,
   "metadata": {
    "collapsed": true
   },
   "outputs": [],
   "source": []
  }
 ],
 "metadata": {
  "anaconda-cloud": {},
  "kernelspec": {
   "display_name": "Python 2",
   "language": "python",
   "name": "python2"
  },
  "language_info": {
   "codemirror_mode": {
    "name": "ipython",
    "version": 2
   },
   "file_extension": ".py",
   "mimetype": "text/x-python",
   "name": "python",
   "nbconvert_exporter": "python",
   "pygments_lexer": "ipython2",
   "version": "2.7.13"
  }
 },
 "nbformat": 4,
 "nbformat_minor": 0
}
